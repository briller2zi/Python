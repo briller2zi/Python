{
  "nbformat": 4,
  "nbformat_minor": 0,
  "metadata": {
    "colab": {
      "provenance": [],
      "authorship_tag": "ABX9TyObP/K/hjRJMJSls7Od08oC",
      "include_colab_link": true
    },
    "kernelspec": {
      "name": "python3",
      "display_name": "Python 3"
    },
    "language_info": {
      "name": "python"
    }
  },
  "cells": [
    {
      "cell_type": "markdown",
      "metadata": {
        "id": "view-in-github",
        "colab_type": "text"
      },
      "source": [
        "<a href=\"https://colab.research.google.com/github/briller2zi/Python/blob/main/%5B%EA%B0%9C%EB%85%90%EC%A0%95%EB%A6%AC%5D%EB%A6%AC%EC%8A%A4%ED%8A%B8.ipynb\" target=\"_parent\"><img src=\"https://colab.research.google.com/assets/colab-badge.svg\" alt=\"Open In Colab\"/></a>"
      ]
    },
    {
      "cell_type": "code",
      "execution_count": null,
      "metadata": {
        "colab": {
          "base_uri": "https://localhost:8080/"
        },
        "id": "cxChQFSR3vnM",
        "outputId": "2fcd2480-622e-45cf-ccf6-50bda95bde99"
      },
      "outputs": [
        {
          "output_type": "stream",
          "name": "stdout",
          "text": [
            "[1, 2, 3, 4, 5]\n",
            "['가', 1, 2, 3, '다', True]\n",
            "[1, 2, '가', 4, 5]\n",
            "[1, 2, '가', 0, 5]\n",
            "[1, 2, '가', 0, 5, '가', 1, 2, 3, '다', True]\n",
            "[1, 2, '가', 0, 5]\n",
            "[1, 2, '가', 0, 5, '마지막']\n",
            "[1, 2, '가', 0, 5, '마지막', 343]\n",
            "['가', 0, 5]\n",
            "[1, 2, '가', 0, 5, '마지막', 343]\n",
            "[1, 2, '가', 0, '마지막', 343]\n",
            "6\n",
            "['a', 'b', 'c', 'd', True, False]\n",
            "[['a', 'b', 'c', 'd'], [True, False]]\n",
            "['a', 'c', 'f', 'hello', 'n', 'e']\n",
            "['a', 'c', 'f', 'hello', 'n', 'e', '합', '칠', '거', '야']\n"
          ]
        }
      ],
      "source": [
        "# 리스트 사용하기\n",
        "# 리스트는 다양한 값들을 하나의 덩어리로 묶는 자료형으로 대괄호 사이에 쉼표로 값을 구분한다.\n",
        "# 리스트는 서로 다른 자료형을 넣을 수도 있지만, 일반적으로 서로 같은 형을 넣는 경우가 많다.\n",
        "list = [1, 2, 3, 4, 5]\n",
        "list_join = ['가', 1, 2, 3, '다', True]\n",
        "print(list); print(list_join)\n",
        "\n",
        "# list[5] = 7\n",
        "# print(list)\n",
        "# 예상값 : [1, 2, 3, 4, 5, 7]\n",
        "# ※예상과 달리 에러가 발생! 아, 리스트 이름[인덱스번소] = 새로운 값 지정할 때는 '변경'만 되는거구나!\n",
        "\n",
        "# 그렇다면 '변경'/'수정'의 개념으로 할 경우에는 어떻게 될까?\n",
        "list[2] = '가' # 서로 다른 데이터 타입으로 수정할 수도 있다.\n",
        "print(list)\n",
        "\n",
        "list[3] = 0\n",
        "print(list)\n",
        "# 예상값 : [1, 2, 가, 0, 5]\n",
        "\n",
        "print(list + list_join)\n",
        "\n",
        "# 리스트는 대괄호 안에 쉼표로 값을 구분하고, 변경하고자 할 때는 리스트 변수명[인덱스번호] = [리스트인덱스]\n",
        "# (단, 이미 값이 들어있는 인덱스 번호에서만 사용할 수 있다) 따라서 값을 추가하고 싶을 땐 관련 함수를 사용\n",
        "\n",
        "# 리스트와 관련된 다양한 함수\n",
        "print(list)\n",
        "list.append('마지막')\n",
        "print(list)\n",
        "\n",
        "list.append(7 ** 3)\n",
        "print(list)\n",
        "print(list[2:5])\n",
        "print(list)\n",
        "list.remove(5)\n",
        "# remove 함수는 삭제하고 싶은 값을 직접 입력하는거군! 인덱스 번호 작성이 아니야!\n",
        "print(list)\n",
        "\n",
        "\n",
        "# list에서 사용할 수 있는 함수 : append, remove = 값을 기반으로 작성\n",
        "\n",
        "print(len(list))\n",
        "\n",
        "# 리스트를 중첩해서 만들 수도 있다\n",
        "a = ['a', 'b', 'c', 'd']\n",
        "b = [True, False]\n",
        "\n",
        "list_2 = a + b\n",
        "list_3 = [a, b]\n",
        "print(list_2)\n",
        "print(list_3)\n",
        "\n",
        "\n",
        "list2 = ['a', 'c', 'f', 'hello', 'n']\n",
        "list2.append('e')\n",
        "print(list2)\n",
        "\n",
        "list3 = ['합', '칠','거', '야']\n",
        "list2.extend(list3)\n",
        "print(list2)\n",
        "\n",
        "# list4 = list2.extend(list3)\n",
        "# print(list4) -> None 값 발생\n",
        "# extend는 새로운 변수로 할당해서 사용하는 방식이 아니구나! 그럼 다른 함수도 동일할까?\n",
        "# list1 = [1, 2, 3, 4, 5]\n",
        "# lista = list1.append(6)\n",
        "# print(lista) -> 동일하게 널값이 발생\n",
        "# 아, 파괴적 처리는 그 자체 연산이 동기화되니까 새로운 변수 할당할 경우에는 None으로 처리되는구나?\n",
        "# 앞으로 list의 함수를 사용할 때 참고!"
      ]
    },
    {
      "cell_type": "code",
      "source": [
        "# 리스트와 관련된 함수 사용\n",
        "# 1. append : 리스트의 끝에 항목을 더함\n",
        "list_1 = [1, 2, 3, 4, 5]\n",
        "list_1.append(6) # 언제나 맨 끝 항목에 값을 추가하므로 별도의 위치지정이 불필요\n",
        "print(list_1)\n",
        "\n",
        "# append를 이용해서 값은 몇 개까지 추가될 수 있을까?\n",
        "# list_1.append(6, 7) TypeError: list.append() takes exactly one argument (2 given)\n",
        "# print(list_2)\n",
        "# 아, append는 한 개의 요소를 마지막에 추가할 때만 넣을 수 있는 함수구나!\n",
        "# 그렇다면 두 개 이상의 요소를 집어넣고 싶거나 내가 원하는 위치에 넣고 싶을 땐 어떻게 해야하지?\n",
        "\n",
        "# 그럴 때 사용할 수 있는 함수들\n",
        "# 2. extend : 리스트와 리스트를 연결하는 함수\n",
        "list_2 = [7, 8, 9, 10, 11, 12]\n",
        "list_1.extend(list_2)\n",
        "print(list_1)\n",
        "\n",
        "# 그렇다면 extend로 단일 요소 or 두 개 이상의 리스트, 서로 다른 개수의 리스트를 연결 할 수 있을까?\n",
        "# list_1.extend(3) TypeError: 'int' object is not iterable ; 에러 발생\n",
        "\n",
        "# 그렇다면 3개 이상의 리스트를 extend로 조인할 수 있을까?\n",
        "list_3 = ['a', 'b', 'c', 'd']\n",
        "# list_1.extend(list_2, list_3) ; TypeError: list.extend() takes exactly one argument (2 given)\n",
        "# append가 하나의 값만 넣을 수 있듯 extend 또한 하나의 리스트만 연결 조건으로 넣을 수 있다.\n",
        "\n",
        "# 그렇다면 서로 다른 개수의 리스트는 연결이 될까?\n",
        "list_1.extend(list_3)\n",
        "print(list_1) # 가능하다\n",
        "\n",
        "# 3. insert : 주어진 위치에 항목을 삽입\n",
        "# list.insert(인덱스위치, 넣을 값)\n",
        "list_1. insert(6, 'g')\n",
        "# 그렇다면 기존에 index 6의 값 = 7은 어떻게 될까? 값이 변환 / 대체되지 않을까?\n",
        "print(list_1)\n",
        "# insert 로 값을 집어넣을 땐 값이 변경되는 것 즉, 기존의 값은 사라짐\n",
        "\n",
        "# 4. remove : 리스트에서 remove(x) x에 해당하는 첫번째 항목의 값을 저장하며 값이 없을 경우 value error발생\n",
        "list_1.remove(1)\n",
        "print(list_1)\n",
        "\n",
        "# 5. pop : 주어진 위치의 항목을 삭제하고 그 항목을 돌려준다. 별도의 인덱스를 지정하지 않을 경우에는 마지막 항목을 삭제하고 돌려준다.\n",
        "print(list_1.pop(3))\n",
        "print(list_1)\n",
        "\n",
        "# 6. clear : 리스트의 모든 항목을 삭제 del a [:]와 같은 의미\n",
        "print(list_1)\n",
        "print(list_1.clear())\n",
        "print(list_1)\n",
        "\n",
        "# 7. index : 해당하는 값이 0부터 어디에 위치하고 있는지\n",
        "list_1 = [1, 2, 3, 3, 4, 5, 6]\n",
        "print(list_1.index(3))\n",
        "\n",
        "# 8. count : list.count(x) -> list에서 x가 등장하는 횟수\n",
        "print(list_1.count(3))\n",
        "\n",
        "# 9. sort(reversed = True/ Flase)\n",
        "list_1.sort(reverse = True)\n",
        "print(list_1)\n",
        "list_2.sort(reverse = False) # reverse  = False가 default value\n",
        "print(list_2)\n",
        "\n",
        "# 10. reverse()\n",
        "list_2.reverse()  #  리스트 요소 뒤집기\n",
        "print(list_2)\n",
        "\n",
        "# 11. copy"
      ],
      "metadata": {
        "colab": {
          "base_uri": "https://localhost:8080/"
        },
        "id": "HMaRomHE34o-",
        "outputId": "97a17441-e15d-4aa9-a29b-fbe9c6f88394"
      },
      "execution_count": null,
      "outputs": [
        {
          "output_type": "stream",
          "name": "stdout",
          "text": [
            "[1, 2, 3, 4, 5, 6]\n",
            "[1, 2, 3, 4, 5, 6, 7, 8, 9, 10, 11, 12]\n",
            "[1, 2, 3, 4, 5, 6, 7, 8, 9, 10, 11, 12, 'a', 'b', 'c', 'd']\n",
            "[1, 2, 3, 4, 5, 6, 'g', 7, 8, 9, 10, 11, 12, 'a', 'b', 'c', 'd']\n",
            "[2, 3, 4, 5, 6, 'g', 7, 8, 9, 10, 11, 12, 'a', 'b', 'c', 'd']\n",
            "5\n",
            "[2, 3, 4, 6, 'g', 7, 8, 9, 10, 11, 12, 'a', 'b', 'c', 'd']\n",
            "[2, 3, 4, 6, 'g', 7, 8, 9, 10, 11, 12, 'a', 'b', 'c', 'd']\n",
            "None\n",
            "[]\n",
            "2\n",
            "2\n",
            "[6, 5, 4, 3, 3, 2, 1]\n",
            "[7, 8, 9, 10, 11, 12]\n",
            "[12, 11, 10, 9, 8, 7]\n"
          ]
        }
      ]
    },
    {
      "cell_type": "code",
      "source": [
        "# 오늘의 정리\n",
        "# list는 다양한 자료형을 담아둘 수 있는 형태이다.\n",
        "# list는 서로 다른 자료형을 담아둘 수도 있지만, 같은 형의 자료형을 담아두는 경우가 많다.\n",
        "\n",
        "# list와 관련된 함수는\n",
        "# append : 리스트 맨 마지막에 하나의 값이 추가 (두 개 이상 넣을 수 없음)\n",
        "# insert : list.insert(인덱스지정, 값 지정) 하나의 값만 넣을 수 있다\n",
        "# extend : 두 개의 리스트를 연결 (리스트가 아닌 경우 에러 발생)\n",
        "# remove : list.remove(삭제하고 싶은 값) 값을 삭제 ; 하나만 가능\n",
        "# pop : list.pop(n) 인덱스 n에 위치하는 값을 뽑아낸 후 삭제\n",
        "# print(list.pop(3)) -> 삭제되는 인덱스3에 위치한 값이 출력되지만\n",
        "# list.pop(3)\n",
        "# print(list) 로 할 경우 3에 위치한 값이 삭제되고 나머지 리스트 출력\n",
        "# clear : 리스트 요소 비우기\n",
        "# index : 찾고자 하는 값의 위치가 어디에 있는지 인덱스 기반으로 값을 돌려줌 list.index(찾고자 하는 값)\n",
        "# sort(reverse = True / False) : 오름차순 내림차순\n",
        "# reverse() : 배열 뒤집기\n",
        "\n",
        "\n",
        "# 오늘의 궁금증\n",
        "# remove의 경우 삭제할 값이 없을 때 value Error를 발생시킨다는데 왜 안되는거지? 아, 이미 삭제된 값도 안에 내포되어 있으면 별도의 에러를 일으키지 않는 것인가? 리스트에 담긴 초기값을 기준으로 하는걸까?"
      ],
      "metadata": {
        "id": "fqFCOjybBeBk"
      },
      "execution_count": null,
      "outputs": []
    },
    {
      "cell_type": "code",
      "source": [
        "# 리스트를 스택으로 사용하기\n",
        "stack = [3, 4, 5]\n",
        "stack.append(6)\n",
        "stack.append(7)\n",
        "print(stack)\n",
        "print(stack.pop())\n",
        "print(stack.pop())\n",
        "print(stack.pop())\n",
        "print(stack)\n",
        "stack.reverse()\n",
        "print(stack)\n",
        "# 결론 stack 은 first in last out (FILO)이므로 pop뒤에 별도의 숫자를 지정하지 않고  공백에서 출력하면 마지막 값이 출력"
      ],
      "metadata": {
        "colab": {
          "base_uri": "https://localhost:8080/"
        },
        "id": "D-S6WKKC_1RL",
        "outputId": "05684cb2-c8e8-4293-f22f-80a1c63f99a4"
      },
      "execution_count": null,
      "outputs": [
        {
          "output_type": "stream",
          "name": "stdout",
          "text": [
            "[3, 4, 5, 6, 7]\n",
            "7\n",
            "6\n",
            "5\n",
            "[3, 4]\n",
            "[4, 3]\n"
          ]
        }
      ]
    },
    {
      "cell_type": "code",
      "source": [
        "# 리스트를 큐로 사용하기\n",
        "# 큐는 First in first out이므로 리스트에서 효율적인 방법은 아니다. (why? 구동 시간 늘어남)\n",
        "# 따라서 리스트에서 큐를 사용하기 위해서는 collections.deque\n",
        "from collections import deque\n",
        "deque= deque(['Eric', 'John', 'Michael'])\n",
        "deque.append(\"Terry\")\n",
        "deque.append(\"Graham\")\n",
        "print(deque)\n",
        "print(deque.popleft())"
      ],
      "metadata": {
        "colab": {
          "base_uri": "https://localhost:8080/"
        },
        "id": "UkbfT-JGAc4x",
        "outputId": "0385a29e-7c7d-4633-8841-78c77f6a71a7"
      },
      "execution_count": null,
      "outputs": [
        {
          "output_type": "stream",
          "name": "stdout",
          "text": [
            "deque(['Eric', 'John', 'Michael', 'Terry', 'Graham'])\n",
            "Eric\n"
          ]
        }
      ]
    },
    {
      "cell_type": "code",
      "source": [
        "import collections\n",
        "basedata = ['a', 'b', 'c', 'd', 'e']\n",
        "dequedata = collections.deque(basedata)\n",
        "dequedata1 = collections. deque([1, 2, 3, 4])\n",
        "print(dequedata)\n",
        "print(dequedata1)"
      ],
      "metadata": {
        "colab": {
          "base_uri": "https://localhost:8080/"
        },
        "id": "A31hIebyp411",
        "outputId": "84d38089-e529-4d32-8a08-9fa7eb976b02"
      },
      "execution_count": null,
      "outputs": [
        {
          "output_type": "stream",
          "name": "stdout",
          "text": [
            "deque(['a', 'b', 'c', 'd', 'e'])\n",
            "deque([1, 2, 3, 4])\n"
          ]
        }
      ]
    },
    {
      "cell_type": "code",
      "source": [
        "# 반복문으로 리스트 사용하기\n",
        "list = []\n",
        "for i in range(10):\n",
        "    list.append(i**2)\n",
        "print(list)\n",
        "# 예상값 : [0**2, 1**2, 2**2, ... 9**2]\n",
        "# [0, 1, 4, 9, 16, 25, 36, 49, 64, 81]\n",
        "list.pop(0)\n",
        "list.pop(1)\n",
        "print(list)"
      ],
      "metadata": {
        "colab": {
          "base_uri": "https://localhost:8080/"
        },
        "id": "ByH9gjaXqY6V",
        "outputId": "4e893849-73b8-43d0-fc5e-3834986d7f3e"
      },
      "execution_count": null,
      "outputs": [
        {
          "output_type": "stream",
          "name": "stdout",
          "text": [
            "[0, 1, 4, 9, 16, 25, 36, 49, 64, 81]\n",
            "[1, 9, 16, 25, 36, 49, 64, 81]\n"
          ]
        }
      ]
    },
    {
      "cell_type": "code",
      "source": [
        "# 리스트 정리\n",
        "# 리스트는 서로 다른 자료형도 담을 수 있는 하나의 통이구나\n",
        "# 리스트를 만들 땐 변수명 = [ 담고 싶은 자료 ], '대괄호'를 써야한다는 점을 유의하자\n",
        "list1= []\n",
        "# 이렇게 빈 리스트에 값을 넣고 싶다면 반드시 함수를 써야해\n",
        "# list1[0] = 1 이렇게 할 경우에는 IndexError가 나와\n",
        "# list[인덱스번호] 는 값이 '이미' 있는 경우에 변경하고자 할 때만 가능하거든!\n",
        "# 예를 들어서\n",
        "list2 = [1, 2, 3]\n",
        "list2[0] = 3\n",
        "list2[2] = 'i'\n",
        "print(list2)\n",
        "\n",
        "# 그렇다면 list1처럼 빈 리스트에는 어떻게 값을 집어넣지?\n",
        "# 1. append\n",
        "# 2. insert\n",
        "# 3. extend\n",
        "# 총 세 가지의 방법이 있어\n",
        "# append와 insert는 하나의 값을 집어넣을 수 있고, extend는 리스트와 리스트를 연결하는 방법이야\n",
        "# 그렇다면 append와 insert는 무슨 차이가 있을까?\n",
        "# 우선 공통점은 하나의 값만 조정할 수 있다는거야 (두 개 이상은 불가해)\n",
        "# append는 리스트 마지막에 값을 집어넣기에 별도로 인덱스를 지정할 필요가 없어\n",
        "# 하지만 insert는 원하는 위치에 값을 집어넣을 수 있어 그래서 작성 형식도 달라\n",
        "list1.append(10)\n",
        "list1.insert(3, 10)\n",
        "print(list1)\n",
        "# extend는 리스트와 리스트만 연결할 대 가능해\n",
        "list1.extend(list2)\n",
        "print(list1)\n",
        "\n",
        "# 그렇다면 값을 삭제하고 싶을 땐 어떻게 해야할까?\n",
        "# 1. remove\n",
        "# 2. pop\n",
        "# 3. clear\n",
        "\n",
        "# remove와 pop은 하나의 값을 삭제, clear는 리스트 전체의 값을 초기화 시키는 걸 의미해\n",
        "# remove와 pop의 차이는 뭘까?\n",
        "# pop은 print(list.pop()) 하면 삭제하려는 값을 추출할 수 있고, print(list)를 할 경우는 pop을 한 결과값을 볼 수 있어\n",
        "print(list1.pop(3)) # result : 2\n",
        "print(list1) # result : [10, 10, 3, 'i']\n",
        "\n",
        "# remove는 원하는 값만 추출할 수 있어\n",
        "list1.remove(3)\n",
        "print(list1)\n",
        "# 이때 유의해야 할 점은 pop은 인덱스기반이고, remove는 값 기반이야! 이게 자주 헷갈리는데 절대 혼동해서는 안돼!\n",
        "# clear는 값 지우기\n",
        "list1.clear()\n",
        "print(list1)\n",
        "\n",
        "list1 = [1, 2, 3, 4, 5, 6]\n",
        "del list1[0]\n",
        "print(list1)"
      ],
      "metadata": {
        "colab": {
          "base_uri": "https://localhost:8080/"
        },
        "id": "lK-9Kcqkwz8N",
        "outputId": "a3d274b7-09a5-4c91-97f7-bf6fbe431d6c"
      },
      "execution_count": null,
      "outputs": [
        {
          "output_type": "stream",
          "name": "stdout",
          "text": [
            "[3, 2, 'i']\n",
            "[10, 10]\n",
            "[10, 10, 3, 2, 'i']\n",
            "2\n",
            "[10, 10, 3, 'i']\n",
            "[10, 10, 'i']\n",
            "[]\n",
            "[2, 3, 4, 5, 6]\n"
          ]
        }
      ]
    },
    {
      "cell_type": "code",
      "source": [
        "# list comprehension\n",
        "squares = []\n",
        "for i in range(10):\n",
        "    # squares.append(i**2)\n",
        "    squares = [i ** 2 for i in range(10)]\n",
        "print(squares)\n",
        "\n"
      ],
      "metadata": {
        "colab": {
          "base_uri": "https://localhost:8080/"
        },
        "id": "hmQN5Uw35SUH",
        "outputId": "495bcf64-6225-41fe-bb3b-deacc155823f"
      },
      "execution_count": null,
      "outputs": [
        {
          "output_type": "stream",
          "name": "stdout",
          "text": [
            "[0, 1, 4, 9, 16, 25, 36, 49, 64, 81]\n"
          ]
        }
      ]
    },
    {
      "cell_type": "code",
      "source": [
        "# 중첩 리스트\n",
        "matrix = [\n",
        "    [1, 2, 3, 4],\n",
        "    [5, 6, 7, 8],\n",
        "    [9, 10 ,11]\n",
        "]\n",
        "print(matrix)\n",
        "del matrix[1]\n",
        "print(matrix)\n",
        "del matrix\n",
        "# print(matrix)  이렇게 전체 삭제하였을 경우 실행하면 에러가 발생\n",
        "\n",
        "matrix = [\n",
        "    [1, 2, 3, 4],\n",
        "    [5, 6, 7, 8],\n",
        "    [9, 10 ,11]\n",
        "]"
      ],
      "metadata": {
        "colab": {
          "base_uri": "https://localhost:8080/"
        },
        "id": "dbYioPKx57LT",
        "outputId": "f9cbd955-837e-44d5-eb00-b78fd9455a23"
      },
      "execution_count": null,
      "outputs": [
        {
          "output_type": "stream",
          "name": "stdout",
          "text": [
            "[[1, 2, 3, 4], [5, 6, 7, 8], [9, 10, 11]]\n",
            "[[1, 2, 3, 4], [9, 10, 11]]\n"
          ]
        }
      ]
    },
    {
      "cell_type": "code",
      "source": [
        "matrix = [\n",
        "    [1, 2, 3, 4],\n",
        "    [5, 6, 7, 8],\n",
        "    [9, 10, 11, 12],\n",
        "]\n",
        "\n",
        "for i in range(4):\n",
        "    # the following 3 lines implement the nested listcomp\n",
        "    transposed_row = []\n",
        "    for row in matrix:\n",
        "        transposed_row.append(row[i])\n",
        "    transposed.append(transposed_row)\n",
        "print(transposed)"
      ],
      "metadata": {
        "colab": {
          "base_uri": "https://localhost:8080/"
        },
        "id": "eeM-ze-A79ea",
        "outputId": "63e6a4ce-0712-452f-9919-19ad1170c75a"
      },
      "execution_count": null,
      "outputs": [
        {
          "output_type": "stream",
          "name": "stdout",
          "text": [
            "[[1, 5, 9], [2, 6, 10], [3, 7, 11], [1, 5, 9], [2, 6, 10], [3, 7, 11], [4, 8, 12], [1, 5, 9], [2, 6, 10], [3, 7, 11], [4, 8, 12]]\n"
          ]
        }
      ]
    }
  ]
}